{
  "nbformat": 4,
  "nbformat_minor": 0,
  "metadata": {
    "colab": {
      "provenance": [],
      "authorship_tag": "ABX9TyOnvSddWFTAr1z/Z4xvTqAo",
      "include_colab_link": true
    },
    "kernelspec": {
      "name": "python3",
      "display_name": "Python 3"
    },
    "language_info": {
      "name": "python"
    }
  },
  "cells": [
    {
      "cell_type": "markdown",
      "metadata": {
        "id": "view-in-github",
        "colab_type": "text"
      },
      "source": [
        "<a href=\"https://colab.research.google.com/github/cybersam9/cybersam9/blob/main/tables_py.ipynb\" target=\"_parent\"><img src=\"https://colab.research.google.com/assets/colab-badge.svg\" alt=\"Open In Colab\"/></a>"
      ]
    },
    {
      "cell_type": "code",
      "execution_count": 5,
      "metadata": {
        "colab": {
          "base_uri": "https://localhost:8080/"
        },
        "id": "wWiAM37AEAkG",
        "outputId": "d42e6934-dd03-4ff2-f41a-24d4950f9ea9"
      },
      "outputs": [
        {
          "output_type": "stream",
          "name": "stdout",
          "text": [
            "+-------------+--------------+-------+\n",
            "| FIRSTNAME   | SECONDNAME   |   AGE |\n",
            "+=============+==============+=======+\n",
            "| samson      | musyoka      |    18 |\n",
            "+-------------+--------------+-------+\n",
            "| samson      | musyoka      |    18 |\n",
            "+-------------+--------------+-------+\n",
            "| samson      | musyoka      |    18 |\n",
            "+-------------+--------------+-------+\n",
            "| samson      | musyoka      |    18 |\n",
            "+-------------+--------------+-------+\n",
            "| samson      | musyoka      |    18 |\n",
            "+-------------+--------------+-------+\n",
            "| samson      | musyoka      |    18 |\n",
            "+-------------+--------------+-------+\n",
            "| samson      | musyoka      |    18 |\n",
            "+-------------+--------------+-------+\n",
            "| samson      | musyoka      |    18 |\n",
            "+-------------+--------------+-------+\n",
            "| samson      | musyoka      |    18 |\n",
            "+-------------+--------------+-------+\n",
            "| samson      | musyoka      |    18 |\n",
            "+-------------+--------------+-------+\n",
            "| samson      | musyoka      |    18 |\n",
            "+-------------+--------------+-------+\n",
            "| samson      | musyoka      |    18 |\n",
            "+-------------+--------------+-------+\n"
          ]
        }
      ],
      "source": [
        "from tabulate import tabulate\n",
        "\n",
        "data=[\n",
        "\n",
        "      ['samson','musyoka',18],\n",
        "      ['samson','musyoka',18],\n",
        "      ['samson','musyoka',18],\n",
        "      ['samson','musyoka',18],\n",
        "      ['samson','musyoka',18],\n",
        "      ['samson','musyoka',18],\n",
        "      ['samson','musyoka',18],\n",
        "      ['samson','musyoka',18],\n",
        "      ['samson','musyoka',18],\n",
        "      ['samson','musyoka',18],\n",
        "      ['samson','musyoka',18],\n",
        "      ['samson','musyoka',18]\n",
        "]\n",
        "headers=['FIRSTNAME','SECONDNAME','AGE']\n",
        "\n",
        "print(tabulate(data,headers=headers,tablefmt='grid'))\n"
      ]
    }
  ]
}